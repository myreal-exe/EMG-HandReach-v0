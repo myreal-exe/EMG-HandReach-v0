{
 "cells": [
  {
   "cell_type": "code",
   "execution_count": 1,
   "id": "b0a2867b",
   "metadata": {},
   "outputs": [],
   "source": [
    "import gym"
   ]
  },
  {
   "cell_type": "code",
   "execution_count": 2,
   "id": "393f73aa",
   "metadata": {},
   "outputs": [],
   "source": [
    "env = gym.make(\"HandManipulateBlock-v0\")"
   ]
  },
  {
   "cell_type": "code",
   "execution_count": 3,
   "id": "3b0c1fa4",
   "metadata": {},
   "outputs": [
    {
     "name": "stdout",
     "output_type": "stream",
     "text": [
      "Action Space Range:\n",
      "[1. 1. 1. 1. 1. 1. 1. 1. 1. 1. 1. 1. 1. 1. 1. 1. 1. 1. 1. 1.]\n",
      "[-1. -1. -1. -1. -1. -1. -1. -1. -1. -1. -1. -1. -1. -1. -1. -1. -1. -1.\n",
      " -1. -1.]\n",
      "\n",
      "Action Space channels:  20\n"
     ]
    }
   ],
   "source": [
    "print(\"Action Space Range:\")\n",
    "print(env.action_space.high)\n",
    "print(env.action_space.low)\n",
    "print(\"\\nAction Space channels: \",len(env.action_space.high))"
   ]
  },
  {
   "cell_type": "markdown",
   "id": "b2249e83",
   "metadata": {},
   "source": [
    "These environments are based on the **Shadow Dexterous** Hand,5 which is an anthropomorphic robotic\n",
    "hand with **24 degrees of freedom**. Of those 24 joints, 20 can be can be controlled independently\n",
    "whereas the remaining ones are coupled joints.\n",
    "\n",
    "In all hand tasks, rewards are sparse and binary:\n",
    "The agent obtains a reward of 0 if the goal has been achieved (within some task-specific tolerance) and −1 otherwise.\n",
    "**Actions are 20-dimensional**: We use absolute position control for all non-coupled joints of the hand. We apply the same action in 20 subsequent simulator steps (with ∆t = 0.002 each) before returning control to the agent, i.e. the agent’s action frequency is f = 25 Hz.\n",
    "\n",
    "Observations include the 24 positions and velocities of the robot’s joints. In case of an object that is being manipulated, we also include its Cartesian position and rotation represented by a quaternion (hence 7-dimensional) as well as its linear and angular velocities. In the reaching task, we include the Cartesian position of all 5 fingertips.\n",
    "\n",
    "### Reaching (*HandReach-v0*):\n",
    "A simple task in which the goal is 15-dimensional and contains the target\n",
    "Cartesian position of each fingertip of the hand. Similarly to the FetchReach task, this task is\n",
    "relatively easy to learn. A goal is considered achieved if the mean distance between fingertips and\n",
    "their desired position is less than 1 cm."
   ]
  },
  {
   "cell_type": "code",
   "execution_count": 4,
   "id": "51895729",
   "metadata": {},
   "outputs": [],
   "source": [
    "import serial\n",
    "import numpy as np\n",
    "import os\n",
    "import gc\n",
    "import time"
   ]
  },
  {
   "cell_type": "code",
   "execution_count": 5,
   "id": "599d89bd",
   "metadata": {},
   "outputs": [],
   "source": [
    "class config():\n",
    "    \n",
    "    #SERIAL SETTINGS\n",
    "    SERIAL_PORT = \"COM5\"\n",
    "    SERIAL_BAUDRATE = 9600\n",
    "    \n",
    "    # TESTED 180 MEASURES/SECOND\n",
    "    MEASURMENTS_PER_SECOND = 180 #ACTUAL RANGE 180-186\n",
    "    MEASUREMENT_TIME_WINDOW = 0.1 #seconds\n",
    "    NOISE_FILTER = 120 #SIGNAL -> SIGNAL - NOISE_FILTER\n",
    "    \n",
    "    #NORMALIZATION\n",
    "    SIGNAL_RANGE = (0, 500 - NOISE_FILTER)#SERIAL FULL RANGE (0,1023) BUT MAXIMUM MUSCLE FLEX REACHES 800-ish\n",
    "    ACTION_SPACE_RANGE = (-1,1)"
   ]
  },
  {
   "cell_type": "code",
   "execution_count": 6,
   "id": "76103008",
   "metadata": {},
   "outputs": [],
   "source": [
    "ser = serial.Serial(config.SERIAL_PORT, baudrate=config.SERIAL_BAUDRATE, timeout=1)\n",
    "\n",
    "if not ser.is_open:\n",
    "    ser.open()\n",
    "    \n",
    "ser.reset_input_buffer()"
   ]
  },
  {
   "cell_type": "code",
   "execution_count": 7,
   "id": "1e1d60eb",
   "metadata": {},
   "outputs": [
    {
     "name": "stdout",
     "output_type": "stream",
     "text": [
      "18.0\n"
     ]
    }
   ],
   "source": [
    "def getOptimalMeanWindow(measures_per_s, time_window_in_s=0.1):\n",
    "    return measures_per_s * time_window_in_s\n",
    "mean_window = getOptimalMeanWindow(config.MEASURMENTS_PER_SECOND, config.MEASUREMENT_TIME_WINDOW)\n",
    "print(mean_window)"
   ]
  },
  {
   "cell_type": "code",
   "execution_count": 8,
   "id": "d3083322",
   "metadata": {},
   "outputs": [],
   "source": [
    "def getEMGsignal(ser, mean_window=mean_window, noise_filter=config.NOISE_FILTER, verbose=False):\n",
    "    if not ser.is_open:\n",
    "        ser.open()\n",
    "    ser.reset_input_buffer()\n",
    "    out = []\n",
    "    while True:\n",
    "        try:\n",
    "            try:\n",
    "                a0_value = int(ser.readline().decode().strip())\n",
    "                if verbose:\n",
    "                    print(a0_value)\n",
    "                out.append(a0_value - noise_filter)\n",
    "                if len(out) == mean_window:\n",
    "                    return sum(out) / len(out)\n",
    "            except KeyboardInterrupt:\n",
    "                print(\"KeyboardInterrupt\")\n",
    "                ser.close()\n",
    "                break\n",
    "            except Exception as e:\n",
    "                #print(e)\n",
    "                continue\n",
    "        except Exception as e:\n",
    "            print(e)\n",
    "            ser.close()\n",
    "            raise e\n",
    "        except KeyboardInterrupt:\n",
    "            print(\"KeyboardInterrupt\")\n",
    "            ser.close()\n",
    "            break\n",
    "    ser.close()\n",
    "\n",
    "def norm_signal(signal, signal_range=config.SIGNAL_RANGE, norm_range=config.ACTION_SPACE_RANGE):\n",
    "    return ( (signal - signal_range[0]) / (signal_range[1] - signal_range[0]) * (norm_range[1] - norm_range[0]) ) + norm_range[0]"
   ]
  },
  {
   "cell_type": "code",
   "execution_count": 9,
   "id": "236809f6",
   "metadata": {},
   "outputs": [
    {
     "name": "stdout",
     "output_type": "stream",
     "text": [
      "-1.0 \n",
      " 1.0 \n",
      " 0.5789473684210527\n"
     ]
    }
   ],
   "source": [
    "print(norm_signal(0),\"\\n\",norm_signal(380),\"\\n\",norm_signal(300))"
   ]
  },
  {
   "cell_type": "code",
   "execution_count": 10,
   "id": "332016c6",
   "metadata": {},
   "outputs": [
    {
     "name": "stdout",
     "output_type": "stream",
     "text": [
      "-0.4766081871345029\n",
      "-0.39532163742690063\n",
      "-0.2973684210526316\n",
      "-0.24941520467836253\n",
      "-0.3263157894736842\n",
      "-0.37339181286549705\n",
      "-0.34444444444444444\n",
      "-0.32748538011695905\n",
      "-0.2976608187134502\n",
      "-0.38421052631578945\n",
      "-0.4476608187134503\n",
      "-0.33216374269005855\n",
      "-0.3769005847953216\n",
      "-0.362280701754386\n",
      "-0.3991228070175439\n",
      "-0.4099415204678363\n",
      "-0.3728070175438596\n",
      "-0.3991228070175439\n",
      "-0.4122807017543859\n",
      "-0.46725146198830403\n",
      "-0.5043859649122806\n",
      "-0.48099415204678364\n",
      "-0.502046783625731\n",
      "-0.4631578947368421\n",
      "-0.43625730994152045\n",
      "-0.46374269005847957\n",
      "-0.4432748538011696\n",
      "-0.39649122807017545\n",
      "-0.2728070175438597\n",
      "-0.34269005847953216\n",
      "-0.4245614035087719\n",
      "KeyboardInterrupt\n"
     ]
    },
    {
     "name": "stderr",
     "output_type": "stream",
     "text": [
      "\n",
      "KeyboardInterrupt\n",
      "\n"
     ]
    }
   ],
   "source": [
    "while True:\n",
    "    action = norm_signal(getEMGsignal(ser))\n",
    "    print(action)"
   ]
  },
  {
   "cell_type": "code",
   "execution_count": 10,
   "id": "96669c25",
   "metadata": {},
   "outputs": [
    {
     "name": "stdout",
     "output_type": "stream",
     "text": [
      "Creating window glfw\n",
      "Episode finished after 100 timesteps\n",
      "Episode finished after 100 timesteps\n",
      "Episode finished after 100 timesteps\n",
      "Episode finished after 100 timesteps\n",
      "Episode finished after 100 timesteps\n",
      "Episode finished after 100 timesteps\n",
      "Episode finished after 100 timesteps\n",
      "Episode finished after 100 timesteps\n",
      "Episode finished after 100 timesteps\n",
      "Episode finished after 100 timesteps\n",
      "Episode finished after 100 timesteps\n",
      "Episode finished after 100 timesteps\n",
      "Episode finished after 100 timesteps\n",
      "Episode finished after 100 timesteps\n",
      "Episode finished after 100 timesteps\n",
      "Episode finished after 100 timesteps\n",
      "Episode finished after 100 timesteps\n",
      "Episode finished after 100 timesteps\n",
      "Episode finished after 100 timesteps\n",
      "Episode finished after 100 timesteps\n"
     ]
    }
   ],
   "source": [
    "\n",
    "for i_episode in range(20):\n",
    "    try:\n",
    "        obs = env.reset()\n",
    "        for t in range(100):\n",
    "            try:\n",
    "                env.render()\n",
    "                #print(obs)\n",
    "                action = np.zeros(len(env.action_space.high))\n",
    "                #Clipping is automatic\n",
    "                action[1] = norm_signal(getEMGsignal(ser))\n",
    "                obs, reward, done, info = env.step(action)\n",
    "                if done:\n",
    "                    print(\"Episode finished after {} timesteps\".format(t+1))\n",
    "                    break\n",
    "            except KeyboardInterrupt:\n",
    "                print(\"Interrupted\")\n",
    "                env.close()\n",
    "    except KeyboardInterrupt:\n",
    "        print(\"Interrupted\")\n",
    "        env.close()\n",
    "        break\n",
    "        \n",
    "env.close()"
   ]
  },
  {
   "cell_type": "code",
   "execution_count": null,
   "id": "7b577512",
   "metadata": {},
   "outputs": [],
   "source": []
  }
 ],
 "metadata": {
  "kernelspec": {
   "display_name": "Python 3 (ipykernel)",
   "language": "python",
   "name": "python3"
  },
  "language_info": {
   "codemirror_mode": {
    "name": "ipython",
    "version": 3
   },
   "file_extension": ".py",
   "mimetype": "text/x-python",
   "name": "python",
   "nbconvert_exporter": "python",
   "pygments_lexer": "ipython3",
   "version": "3.8.12"
  }
 },
 "nbformat": 4,
 "nbformat_minor": 5
}
